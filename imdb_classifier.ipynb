{
  "nbformat": 4,
  "nbformat_minor": 0,
  "metadata": {
    "colab": {
      "name": "imdb_classifier.ipynb",
      "provenance": [],
      "authorship_tag": "ABX9TyMagMx5ZQsNtYA9VRsMQuzj",
      "include_colab_link": true
    },
    "kernelspec": {
      "name": "python3",
      "display_name": "Python 3"
    },
    "language_info": {
      "name": "python"
    },
    "gpuClass": "standard"
  },
  "cells": [
    {
      "cell_type": "markdown",
      "metadata": {
        "id": "view-in-github",
        "colab_type": "text"
      },
      "source": [
        "<a href=\"https://colab.research.google.com/github/Eyoel-gebre/IMDB-movie-review-Binary-classifier/blob/main/imdb_classifier.ipynb\" target=\"_parent\"><img src=\"https://colab.research.google.com/assets/colab-badge.svg\" alt=\"Open In Colab\"/></a>"
      ]
    },
    {
      "cell_type": "code",
      "execution_count": 4,
      "metadata": {
        "id": "2RdokimALD0j"
      },
      "outputs": [],
      "source": [
        "import numpy as np\n",
        "import tensorflow as tf\n",
        "import matplotlib as pl\n",
        "from tensorflow.keras.datasets import imdb\n",
        "from tensorflow import keras\n",
        "from tensorflow.keras import layers\n",
        "\n"
      ]
    },
    {
      "cell_type": "code",
      "source": [
        "(train_data, train_labels), (test_data, test_labels) = imdb.load_data(\n",
        "            num_words=10000)"
      ],
      "metadata": {
        "id": "bQUfooEkYE11"
      },
      "execution_count": null,
      "outputs": []
    },
    {
      "cell_type": "code",
      "source": [
        "#encodes int sequences using mulit-hot encoding\n",
        "def vectorizer(sequences, dim=10000):\n",
        "  results = np.zeros((len(sequences), dim))\n",
        "  for i, sequence in enumerate(sequences): \n",
        "    for j in sequence:\n",
        "      results[i, j] = 1. \n",
        "  return results\n",
        "\n",
        "#traind = vectorizer(train_data)\n",
        "#testd = vectorizer(test_data)"
      ],
      "metadata": {
        "id": "X6Efirth5p9d"
      },
      "execution_count": 9,
      "outputs": []
    },
    {
      "cell_type": "code",
      "source": [
        "#encodes labels\n",
        "trainl = np.asarray(train_labels).astype(\"float32\")\n",
        "testl = np.asarray(test_labels).astype(\"float32\")\n"
      ],
      "metadata": {
        "id": "Y56UoB716AWE"
      },
      "execution_count": 3,
      "outputs": []
    },
    {
      "cell_type": "code",
      "source": [
        "#can be used for decoding\n",
        "word_index = imdb.get_word_index()\n",
        "reverse_word_index = dict([(value, key) for (key, value) in word_index.items()]) \n",
        "#decoded_review = \" \".join([reverse_word_index.get(i - 3, \"?\") for i in train_data[0]])"
      ],
      "metadata": {
        "id": "Pw8D-VvL6602",
        "colab": {
          "base_uri": "https://localhost:8080/"
        },
        "outputId": "1ae70a19-1cb6-496e-eb44-e60611769e50"
      },
      "execution_count": 5,
      "outputs": [
        {
          "output_type": "stream",
          "name": "stdout",
          "text": [
            "Downloading data from https://storage.googleapis.com/tensorflow/tf-keras-datasets/imdb_word_index.json\n",
            "1646592/1641221 [==============================] - 0s 0us/step\n",
            "1654784/1641221 [==============================] - 0s 0us/step\n"
          ]
        }
      ]
    },
    {
      "cell_type": "code",
      "source": [
        "#creates the model architecture\n",
        "\n",
        "model = keras.Sequential([\n",
        "    layers.Dense(16, activation=\"relu\"),\n",
        "    layers.Dense(16, activation=\"relu\"),\n",
        "    layers.Dense(1, activation=\"sigmoid\"),\n",
        "])\n"
      ],
      "metadata": {
        "id": "5Z3hYaO01tK4"
      },
      "execution_count": 5,
      "outputs": []
    },
    {
      "cell_type": "code",
      "source": [
        "#configures the loss function, optimizer, and monotired metric\n",
        "model.compile(optimizer=\"rmsprop\",\n",
        "              loss=\"binary_crossentropy\",\n",
        "              metrics=[\"accuracy\"])"
      ],
      "metadata": {
        "id": "qnbnPGr19Kkl"
      },
      "execution_count": 6,
      "outputs": []
    },
    {
      "cell_type": "code",
      "source": [
        "#setting aside data for validations set\n",
        "\n",
        "x_val = traind[:10000]\n",
        "partial_x_train = traind[10000:]\n",
        "y_val = trainl[:10000]\n",
        "partial_y_train = trainl[10000:]"
      ],
      "metadata": {
        "id": "UabvJdnzC0Jr"
      },
      "execution_count": 7,
      "outputs": []
    },
    {
      "cell_type": "code",
      "source": [
        "#trains the model in batch sizes of 512 for \n",
        "ep = 10\n",
        "history = model.fit(partial_x_train,\n",
        "                    partial_y_train,\n",
        "                    epochs=ep,\n",
        "                    batch_size=512,\n",
        "                    validation_data=(x_val, y_val))\n"
      ],
      "metadata": {
        "colab": {
          "base_uri": "https://localhost:8080/"
        },
        "id": "LTZoaJSCFIxO",
        "outputId": "433a0e0d-907b-4564-eead-f18394efb8cd"
      },
      "execution_count": 8,
      "outputs": [
        {
          "output_type": "stream",
          "name": "stdout",
          "text": [
            "Epoch 1/10\n",
            "30/30 [==============================] - 3s 56ms/step - loss: 0.5052 - accuracy: 0.7886 - val_loss: 0.3763 - val_accuracy: 0.8731\n",
            "Epoch 2/10\n",
            "30/30 [==============================] - 1s 38ms/step - loss: 0.2974 - accuracy: 0.9044 - val_loss: 0.3371 - val_accuracy: 0.8638\n",
            "Epoch 3/10\n",
            "30/30 [==============================] - 1s 37ms/step - loss: 0.2224 - accuracy: 0.9267 - val_loss: 0.2796 - val_accuracy: 0.8909\n",
            "Epoch 4/10\n",
            "30/30 [==============================] - 1s 37ms/step - loss: 0.1762 - accuracy: 0.9449 - val_loss: 0.2952 - val_accuracy: 0.8831\n",
            "Epoch 5/10\n",
            "30/30 [==============================] - 1s 37ms/step - loss: 0.1450 - accuracy: 0.9539 - val_loss: 0.2799 - val_accuracy: 0.8880\n",
            "Epoch 6/10\n",
            "30/30 [==============================] - 1s 37ms/step - loss: 0.1217 - accuracy: 0.9613 - val_loss: 0.2948 - val_accuracy: 0.8868\n",
            "Epoch 7/10\n",
            "30/30 [==============================] - 1s 38ms/step - loss: 0.1025 - accuracy: 0.9693 - val_loss: 0.3066 - val_accuracy: 0.8832\n",
            "Epoch 8/10\n",
            "30/30 [==============================] - 1s 37ms/step - loss: 0.0854 - accuracy: 0.9752 - val_loss: 0.3258 - val_accuracy: 0.8827\n",
            "Epoch 9/10\n",
            "30/30 [==============================] - 1s 37ms/step - loss: 0.0733 - accuracy: 0.9806 - val_loss: 0.3471 - val_accuracy: 0.8794\n",
            "Epoch 10/10\n",
            "30/30 [==============================] - 1s 37ms/step - loss: 0.0605 - accuracy: 0.9849 - val_loss: 0.3669 - val_accuracy: 0.8782\n"
          ]
        }
      ]
    },
    {
      "cell_type": "code",
      "source": [
        "pl.pyplot.plot(range(ep), history.history[\"val_loss\"], label=\"val_loss\")\n",
        "pl.pyplot.plot(range(ep), history.history[\"val_accuracy\"], label='val_accuracy')\n",
        "pl.pyplot.plot(range(ep), history.history[\"accuracy\"], label='accuracy')\n",
        "pl.pyplot.plot(range(ep), history.history[\"loss\"], label='loss')\n",
        "pl.pyplot.legend(loc='best')\n",
        "pl.pyplot.show()"
      ],
      "metadata": {
        "colab": {
          "base_uri": "https://localhost:8080/",
          "height": 265
        },
        "id": "eiflqF1NIKBd",
        "outputId": "f08d8853-4802-422a-fe79-779a462335c0"
      },
      "execution_count": 9,
      "outputs": [
        {
          "output_type": "display_data",
          "data": {
            "text/plain": [
              "<Figure size 432x288 with 1 Axes>"
            ],
            "image/png": "[encoded data removed]"
          },
          "metadata": {
            "needs_background": "light"
          }
        }
      ]
    },
    {
      "cell_type": "code",
      "source": [
        "results = model.evaluate(testd, testl)\n",
        "print(results)"
      ],
      "metadata": {
        "colab": {
          "base_uri": "https://localhost:8080/"
        },
        "id": "J4Q1uTqar-ym",
        "outputId": "5a8bfa0d-a2fb-4697-f146-5715db7c6f35"
      },
      "execution_count": 10,
      "outputs": [
        {
          "output_type": "stream",
          "name": "stdout",
          "text": [
            "782/782 [==============================] - 2s 3ms/step - loss: 0.3983 - accuracy: 0.8663\n",
            "[0.3983391523361206, 0.866320013999939]\n"
          ]
        }
      ]
    },
    {
      "cell_type": "code",
      "source": [
        ""
      ],
      "metadata": {
        "colab": {
          "base_uri": "https://localhost:8080/"
        },
        "id": "KMHnVpk_Kqq0",
        "outputId": "f51a3cc2-7228-4ec6-e0ee-c76f8fd7aa1a"
      },
      "execution_count": 12,
      "outputs": [
        {
          "output_type": "stream",
          "name": "stdout",
          "text": [
            "this film was just brilliant casting location scenery story direction everyone's really suited the part they played and you could just imagine being there robert edged is an amazing actor and now the same being director edged father came from the same scottish island as myself so i loved the fact there was a real connection with this film the witty remarks throughout the film were great it was just brilliant so much that i bought the film as soon as it was released for edged and would recommend it to everyone to watch and the fly fishing was amazing really cried at the end it was so sad and you know what they say if you cry at a film it must have been good and this definitely was also edged to the two little boy's that played the edged of norman and paul they were just brilliant children are often left out of the edged list i think because the stars that play them all grown up are such a big profile for the whole film but these children are amazing and should be praised for what they have done don't you think the whole story was so lovely because it was true and was someone's life after all that was shared with us all\n",
            "[[0. 0. 0. ... 0. 0. 1.]]\n"
          ]
        }
      ]
    },
    {
      "cell_type": "code",
      "source": [
        ""
      ],
      "metadata": {
        "id": "RNO08PLagmi6"
      },
      "execution_count": 13,
      "outputs": []
    },
    {
      "cell_type": "code",
      "source": [
        ""
      ],
      "metadata": {
        "id": "JDGsgzw-gr0B"
      },
      "execution_count": 22,
      "outputs": []
    },
    {
      "cell_type": "code",
      "source": [
        ""
      ],
      "metadata": {
        "id": "U00C7oFFhheF"
      },
      "execution_count": 21,
      "outputs": []
    },
    {
      "cell_type": "code",
      "source": [
        ""
      ],
      "metadata": {
        "id": "CIekQtAtVyFZ"
      },
      "execution_count": 6,
      "outputs": []
    }
  ]
}